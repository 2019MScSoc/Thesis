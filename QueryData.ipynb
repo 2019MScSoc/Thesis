{
 "cells": [
  {
   "cell_type": "code",
   "execution_count": 2,
   "metadata": {},
   "outputs": [
    {
     "name": "stdout",
     "output_type": "stream",
     "text": [
      "The google.cloud.bigquery extension is already loaded. To reload it, use:\n",
      "  %reload_ext google.cloud.bigquery\n"
     ]
    }
   ],
   "source": [
    "import os\n",
    "import pandas as pd\n",
    "%load_ext google.cloud.bigquery\n",
    "from google.cloud import bigquery\n",
    "\n",
    "jsonPath = \"~/Box Sync/*OxfordMSc/service_account.json\"\n",
    "client = bigquery.Client.from_service_account_json(jsonPath)"
   ]
  },
  {
   "cell_type": "code",
   "execution_count": 3,
   "metadata": {},
   "outputs": [],
   "source": [
    "# source for code: https://stackoverflow.com/questions/52825927/authentication-error-when-trying-to-access-bigquery-using-python-client\n",
    "query_job = client.query(\"\"\"\n",
    "    SELECT * FROM `fh-bigquery.reddit_comments.2018*`\n",
    "    WHERE lower(subreddit) = \"progun\" \"\"\")\n",
    "\n",
    "# drop username column and write to dataframe\n",
    "results3 = results3.drop(labels = \"author\", axis = 1)\n",
    "results3 = query_job.result().to_dataframe()"
   ]
  },
  {
   "cell_type": "code",
   "execution_count": 6,
   "metadata": {},
   "outputs": [],
   "source": [
    "# save dataframe locally\n",
    "results3.to_pickle('../Data/progun2018comments')"
   ]
  },
  {
   "cell_type": "code",
   "execution_count": 7,
   "metadata": {},
   "outputs": [],
   "source": [
    "query_job = client.query(\"\"\"\n",
    "    SELECT * FROM `fh-bigquery.reddit_comments.2018*`\n",
    "    WHERE lower(subreddit) = \"liberalgunowners\" \"\"\")\n",
    "\n",
    "# drop username column and write to dataframe\n",
    "results4 = results4.drop(labels = \"author\", axis = 1)\n",
    "results4 = query_job.result().to_dataframe()"
   ]
  },
  {
   "cell_type": "code",
   "execution_count": 8,
   "metadata": {},
   "outputs": [],
   "source": [
    "results4.to_pickle('../Data/liberalgunowners2018comments')"
   ]
  },
  {
   "cell_type": "code",
   "execution_count": 9,
   "metadata": {},
   "outputs": [],
   "source": [
    "query_job = client.query(\"\"\"\n",
    "    SELECT * FROM `fh-bigquery.reddit_comments.2018*`\n",
    "    WHERE lower(subreddit) = \"guns\" \"\"\")\n",
    "\n",
    "# drop username column and write to dataframe\n",
    "results5 = results5.drop(labels = \"author\", axis = 1)\n",
    "results5 = query_job.result().to_dataframe()"
   ]
  },
  {
   "cell_type": "code",
   "execution_count": 15,
   "metadata": {},
   "outputs": [],
   "source": [
    "# split dataframe in half and save locally \n",
    "results5a = results5[0:498960]\n",
    "results5a.to_pickle('../Data/guns2018comments_a.pkl')\n",
    "\n",
    "results5b = results5[498960:]\n",
    "results5b.to_pickle('../Data/guns2018comments_b.pkl')"
   ]
  }
 ],
 "metadata": {
  "kernelspec": {
   "display_name": "Python 3",
   "language": "python",
   "name": "python3"
  },
  "language_info": {
   "codemirror_mode": {
    "name": "ipython",
    "version": 3
   },
   "file_extension": ".py",
   "mimetype": "text/x-python",
   "name": "python",
   "nbconvert_exporter": "python",
   "pygments_lexer": "ipython3",
   "version": "3.7.0"
  }
 },
 "nbformat": 4,
 "nbformat_minor": 2
}
