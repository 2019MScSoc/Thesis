{
 "cells": [
  {
   "cell_type": "code",
   "execution_count": 1,
   "metadata": {},
   "outputs": [],
   "source": [
    "import pandas as pd\n",
    "import time\n",
    "import numpy as np\n",
    "import bs4\n",
    "import re\n",
    "import warnings\n",
    "warnings.filterwarnings(\"error\")"
   ]
  },
  {
   "cell_type": "code",
   "execution_count": 172,
   "metadata": {},
   "outputs": [],
   "source": [
    "# create separate column for created year, month, day, and time. Standardize to local time \n",
    "def time_clean(df):\n",
    "    df['created_year'] = df['created_utc'].map(lambda timestamp: time.strftime('%Y', time.localtime(timestamp)))\n",
    "    df['created_month'] = df['created_utc'].map(lambda timestamp: time.strftime('%m', time.localtime(timestamp)))\n",
    "    df['created_day'] = df['created_utc'].map(lambda timestamp: time.strftime('%d', time.localtime(timestamp)))\n",
    "    df['created_time_gm'] = df['created_utc'].map(lambda timestamp: time.strftime('%H:%M:%S', time.localtime(timestamp)))\n",
    "    df['created_date'] = df['created_utc'].map(lambda timestamp: time.strftime('%d-%m-%Y', time.localtime(timestamp)))\n",
    "    return df\n",
    "\n",
    "# remove URLs from comment body\n",
    "# source: https://stackoverflow.com/questions/11331982/how-to-remove-any-url-within-a-string-in-python\n",
    "def remove_urls(df):\n",
    "    df['no_url_body'] = df['body'].map(lambda body: re.sub(r'https?:\\S+', '', body))\n",
    "    return df\n",
    "\n",
    "# remove quoted text from comment body\n",
    "def remove_comments(df):\n",
    "    df['no_comment_body'] = df['no_url_body'].map(lambda body: re.sub('(&gt;)+?.*?\\n', '', body))\n",
    "    return df \n",
    "\n",
    "# parse mark-up language in comment body\n",
    "def markup_convert(df):\n",
    "    df['clean_body'] = df['no_comment_body'].map(\n",
    "    lambda body: bs4.BeautifulSoup(body, \"lxml\").text.replace(\"\\n\",\" \"))\n",
    "    return df"
   ]
  },
  {
   "cell_type": "code",
   "execution_count": 173,
   "metadata": {},
   "outputs": [],
   "source": [
    "# read in raw comment data\n",
    "progun = pd.read_pickle('../Data/progun2018comments.pkl')\n",
    "liberal = pd.read_pickle('../Data/liberalgunowners2018comments.pkl')\n",
    "guns_a = pd.read_pickle('../Data/guns2018comments_a.pkl')\n",
    "guns_b = pd.read_pickle('../Data/guns2018comments_b.pkl')"
   ]
  },
  {
   "cell_type": "code",
   "execution_count": 174,
   "metadata": {},
   "outputs": [],
   "source": [
    "# read in progun comments, clean timestamp, remove URLs, remove comments \n",
    "progun = remove_comments(remove_urls(time_clean(pd.read_pickle(\"../Data/progun2018comments.pkl\")).reset_index()))\n",
    "\n",
    "# drop comments with '.' as body (avoids BeautifulSoup error)\n",
    "progun.drop([2267, 9570, 45352, 83835, 100679, 123695], inplace = True)\n",
    "\n",
    "# convert from markup \n",
    "progun = markup_convert(progun)"
   ]
  },
  {
   "cell_type": "code",
   "execution_count": 175,
   "metadata": {},
   "outputs": [],
   "source": [
    "# read in liberal comments, clean timestemp, remove URLs, remove comments\n",
    "liberal = remove_comments(remove_urls(time_clean(pd.read_pickle(\"../Data/liberalgunowners2018comments.pkl\")).reset_index()))\n",
    "\n",
    "# drop '.' comments\n",
    "liberal.drop([85903, 122013, 132797], inplace = True)\n",
    "\n",
    "# convert from markup\n",
    "liberal = markup_convert(liberal)\n"
   ]
  },
  {
   "cell_type": "code",
   "execution_count": 176,
   "metadata": {},
   "outputs": [],
   "source": [
    "# read in half of guns comments, clean timestamp, remove URLs, remove comments \n",
    "guns_a = remove_comments(remove_urls(time_clean(pd.read_pickle('../Data/guns2018comments_a.pkl')).reset_index()))\n",
    "\n",
    "# drop '.' comments\n",
    "guns_a.drop(guns_a.index[guns_a['no_comment_body'] == '.'].tolist(), inplace = True)\n",
    "\n",
    "# convert from markup\n",
    "guns_a = markup_convert(guns_a)"
   ]
  },
  {
   "cell_type": "code",
   "execution_count": 177,
   "metadata": {},
   "outputs": [],
   "source": [
    "# read in second half of guns comments, clean timestamp, remove URLs, remove comments \n",
    "guns_b = remove_comments(remove_urls(time_clean(pd.read_pickle('../Data/guns2018comments_b.pkl')).reset_index()))\n",
    "\n",
    "# drop '.' comments \n",
    "guns_b.drop(guns_b.index[guns_b['no_comment_body'] == '.'].tolist(), inplace = True)\n",
    "\n",
    "# convert from markup \n",
    "guns_b = markup_convert(guns_b)"
   ]
  },
  {
   "cell_type": "code",
   "execution_count": 178,
   "metadata": {},
   "outputs": [],
   "source": [
    "# write all comments to CSV files\n",
    "progun.to_csv('../ProcessedData/progunAug7.csv')\n",
    "liberal.to_csv('../ProcessedData/liberalAug7.csv')\n",
    "guns_a.to_csv('../ProcessedData/guns_aAug7.csv')\n",
    "guns_b.to_csv('../ProcessedData/guns_bAug7.csv')"
   ]
  }
 ],
 "metadata": {
  "kernelspec": {
   "display_name": "Python 3",
   "language": "python",
   "name": "python3"
  },
  "language_info": {
   "codemirror_mode": {
    "name": "ipython",
    "version": 3
   },
   "file_extension": ".py",
   "mimetype": "text/x-python",
   "name": "python",
   "nbconvert_exporter": "python",
   "pygments_lexer": "ipython3",
   "version": "3.7.0"
  }
 },
 "nbformat": 4,
 "nbformat_minor": 2
}
